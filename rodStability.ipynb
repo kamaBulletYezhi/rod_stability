{
 "cells": [
  {
   "cell_type": "code",
   "execution_count": 11,
   "metadata": {},
   "outputs": [],
   "source": [
    "import numpy as np\n",
    "import matplotlib.pyplot as plt\n",
    "import matplotlib.font_manager as fm,os\n",
    "import matplotlib.patches as mpatches\n",
    "import matplotlib.lines as mlines\n",
    "from math import pi, cos, sin \n",
    "import time\n"
   ]
  },
  {
   "cell_type": "code",
   "execution_count": 12,
   "metadata": {},
   "outputs": [],
   "source": [
    "# cross-sectional law function\n",
    "\n",
    "# f -- cosine\n",
    "def f1(x): \n",
    "    function = -cos(2*pi*x/l)\n",
    "    first_derivative = (2*pi/l) * sin(2*pi*x/l)\n",
    "    second_derivative = (2*pi/l)**2 * cos(2*pi*x/l)\n",
    "    return np.array([function, first_derivative, second_derivative], float)\n",
    "\n",
    "# f -- polynomial\n",
    "def f2(x):\n",
    "    function = 2*( -6*x**2/l**2 + 6*x/l - 1)\n",
    "    first_derivative = 12/l * (-2*x/l + 1)\n",
    "    second_derivative = - 24/l**2\n",
    "    return np.array([function, first_derivative, second_derivative], float)\n",
    "    "
   ]
  },
  {
   "cell_type": "code",
   "execution_count": 13,
   "metadata": {},
   "outputs": [],
   "source": [
    "# new functions\n",
    "\n",
    "# f -- cosine\n",
    "def f3(x): \n",
    "    function = cos(pi*x/l)\n",
    "    first_derivative = -(pi/l) * sin(pi*x/l)\n",
    "    second_derivative = -(pi/l)**2 * cos(pi*x/l)\n",
    "    return np.array([function, first_derivative, second_derivative], float)\n",
    "    \n",
    "# f -- polynomial\n",
    "def f4(x): \n",
    "    function = 1-2*x/l\n",
    "    first_derivative = -2/l\n",
    "    second_derivative = 0\n",
    "    return np.array([function, first_derivative, second_derivative], float)"
   ]
  },
  {
   "cell_type": "code",
   "execution_count": 4,
   "metadata": {},
   "outputs": [],
   "source": [
    "# def f5(x): \n",
    "#     if x < l/2:\n",
    "#         function = 1\n",
    "#     elif x >= l/2:\n",
    "#         function = -1\n",
    "#     first_derivative = 0\n",
    "#     second_derivative = 0\n",
    "#     return np.array([function, first_derivative, second_derivative], float)"
   ]
  },
  {
   "cell_type": "code",
   "execution_count": 14,
   "metadata": {},
   "outputs": [],
   "source": [
    "def f6(x):\n",
    "    function =  6*x**2/l**2 - 6*x/l + 1\n",
    "    first_derivative = 6/l * (2*x/l - 1)\n",
    "    second_derivative = 12/l**2\n",
    "    return np.array([function, first_derivative, second_derivative], float)\n",
    "\n",
    "# def f7(x):\n",
    "#     function = 1 - pi/2*sin(pi*x/l)\n",
    "#     first_derivative = -pi**2/(2*l)*cos(pi*x/l)\n",
    "#     second_derivative = pi**3/(2*l**2)*sin(pi*x/l)\n",
    "#     return np.array([function, first_derivative, second_derivative], float)\n",
    "\n",
    "def f8(x):\n",
    "    function = cos(4*pi*x/l)\n",
    "    first_derivative = -4*pi/l*sin(4*pi*x/l)\n",
    "    second_derivative = -(4*pi/l)**2 * cos(4*pi*x/l)\n",
    "    return np.array([function, first_derivative, second_derivative], float)"
   ]
  },
  {
   "cell_type": "code",
   "execution_count": 15,
   "metadata": {},
   "outputs": [],
   "source": [
    "def a_33(x, eps, f):\n",
    "    return -8*eps*f(x)[1] / (1+eps*f(x)[0])\n",
    "def a_32(x, eps, alpha, f):\n",
    "    return -(alpha**2 / (1+eps*f(x)[0])**4 + 12*(eps*f(x)[1])**2 / (1+eps*f(x)[0])**2 + 4*eps*f(x)[2] / (1+eps*f(x)[0]))\n",
    "\n",
    "# the right side of the differential equation\n",
    "def Ay(x, y, eps, alpha, f):\n",
    "    A = np.array([\n",
    "        [0, 0, 0, 0],\n",
    "        [0, 0, 0, 0],\n",
    "        [0, 0, 0, 0],\n",
    "        [0, 0, 0, 0]], float)\n",
    "    A[0][1] = float(1)\n",
    "    A[1][2] = float(1)\n",
    "    A[2][3] = float(1)\n",
    "    A[3][2] = a_32(x, eps, alpha, f)\n",
    "    A[3][3] = a_33(x, eps, f)\n",
    "    return np.dot(A, y)"
   ]
  },
  {
   "cell_type": "code",
   "execution_count": 16,
   "metadata": {},
   "outputs": [],
   "source": [
    "def RKF(x, h, y_0, eps, alpha, f):\n",
    "    def increment(x, y, h, eps, alpha, f):\n",
    "        k1 = h * Ay(x            , y                                                             , eps, alpha, f)\n",
    "        k2 = h * Ay(x + (1/4)*h  , y + (1/4)*k1                                                  , eps, alpha, f)\n",
    "        k3 = h * Ay(x + (3/8)*h  , y + (3/32)*k1 + (9/32)*k2                                     , eps, alpha, f)\n",
    "        k4 = h * Ay(x + (12/13)*h, y + (1932/2197)*k1 - (7200/2197)*k2 + (7296/2197)*k3          , eps, alpha, f)\n",
    "        k5 = h * Ay(x + h        , y + (439/216)*k1 - 8*k2 + (3680/513)*k3 - (845/4104)*k4       , eps, alpha, f)\n",
    "        k6 = h * Ay(x + (1/2)*h  , y - (8/27)*k1 + 2*k2-(3544/2565)*k3 +(1859/4104)*k4-(11/40)*k5, eps, alpha, f)\n",
    "        return (16/135)*k1+(6656/12825)*k3+(28561/56430)*k4-(9/50)*k5+(2/55)*k6\n",
    "    y = [] # array of vectors\n",
    "    y_i = y_0\n",
    "    y.append(y_0)\n",
    "    for x_i in x[1:]:\n",
    "        y_i = y_i + increment(x_i, y_i, h, eps, alpha, f)\n",
    "        y.append(y_i)\n",
    "    return np.array(y)"
   ]
  },
  {
   "cell_type": "code",
   "execution_count": 7,
   "metadata": {},
   "outputs": [],
   "source": [
    "def Det2(x, u, v, eps, alpha, f):\n",
    "    a = float(1)\n",
    "    b = alpha**2 / (1+eps*f(x[N])[0])**4\n",
    "    c11 = u[N][2]\n",
    "    c12 = v[N][2]\n",
    "    c21 = a*u[N][3] + b*u[N][1]\n",
    "    c22 = a*v[N][3] + b*v[N][1]\n",
    "    return c11*c22 - c12*c21"
   ]
  },
  {
   "cell_type": "code",
   "execution_count": 17,
   "metadata": {},
   "outputs": [],
   "source": [
    "def Det(x, u, v, eps, alpha, f):\n",
    "    c11 = u[N][0]\n",
    "    c12 = v[N][0]\n",
    "    c21 = u[N][1]\n",
    "    c22 = v[N][1]\n",
    "    return c11*c22 - c12*c21"
   ]
  },
  {
   "cell_type": "code",
   "execution_count": 21,
   "metadata": {},
   "outputs": [],
   "source": [
    "def alpha_binary_search(u0, v0, alphaMAX, alphaMIN, x, h, eps, f):\n",
    "    arguments_for_RKF = [x, h, u0, eps, alphaMIN, f]\n",
    "    u = RKF(*arguments_for_RKF)\n",
    "    arguments_for_RKF = [x, h, v0, eps, alphaMIN, f]\n",
    "    v = RKF(*arguments_for_RKF)\n",
    "    arguments_for_Det = [x, u, v, eps, alphaMIN, f]\n",
    "    Dmin = Det(*arguments_for_Det)\n",
    "\n",
    "    M = 50\n",
    "    delta = (alphaMAX - alphaMIN)/M\n",
    "    for i in range(M):\n",
    "        alphaMAX = alphaMIN + delta\n",
    "        \n",
    "        arguments_for_RKF = [x, h, u0, eps, alphaMAX, f]\n",
    "        u = RKF(*arguments_for_RKF)\n",
    "        arguments_for_RKF = [x, h, v0, eps, alphaMAX, f]\n",
    "        v = RKF(*arguments_for_RKF)\n",
    "        arguments_for_Det = [x, u, v, eps, alphaMAX, f]\n",
    "        Dmax = Det(*arguments_for_Det)\n",
    "        \n",
    "        if Dmin * Dmax <= 0:\n",
    "            break \n",
    "        alphaMIN = alphaMAX\n",
    "        Dmin = Dmax\n",
    "    D = Dmax\n",
    "    while abs(D) > err:\n",
    "        alpha = (alphaMAX + alphaMIN)/2.0\n",
    "        \n",
    "        arguments_for_RKF = [x, h, u0, eps, alpha, f]\n",
    "        u = RKF(*arguments_for_RKF)\n",
    "        \n",
    "        arguments_for_RKF = [x, h, v0, eps, alpha, f]\n",
    "        v = RKF(*arguments_for_RKF)\n",
    "        \n",
    "        arguments_for_Det = [x, u, v, eps, alpha, f]\n",
    "        D = Det(*arguments_for_Det)\n",
    "        #print(Dmin, D, Dmax, alpha)\n",
    "        if D*Dmin <= 0:\n",
    "            Dmax = D\n",
    "            alphaMAX = alpha\n",
    "        elif D*Dmax <= 0:\n",
    "            Dmin = D\n",
    "            alphaMIN = alpha\n",
    "    return alpha    "
   ]
  },
  {
   "cell_type": "code",
   "execution_count": 22,
   "metadata": {},
   "outputs": [],
   "source": [
    "l = 6.0 # rod lenght\n",
    "N = int(50)\n",
    "h = l / N\n",
    "err = h**10\n",
    "k = 1 # the solution w can be found accurate to the coefficient k\n",
    "\n",
    "initial_state_u = np.array([0.0, 0.0, 1.0, 0.0], float)\n",
    "initial_state_v = np.array([0.0, 0.0, 0.0, 1.0], float)\n",
    "x = np.array([i*h if h < l else l for i in range(N+1)], float)\n",
    "\n",
    "u0 = initial_state_u\n",
    "v0 = initial_state_v"
   ]
  },
  {
   "cell_type": "code",
   "execution_count": 23,
   "metadata": {},
   "outputs": [
    {
     "name": "stdout",
     "output_type": "stream",
     "text": [
      "1.0471975541246334\n"
     ]
    }
   ],
   "source": [
    "# SEARCH ALPHA(EPSILON) FOR F6 AND F8  rigid termination       #############################################################\n",
    "\n",
    "alphaMIN = 0.1\n",
    "alphaMAX = 4*pi/l\n",
    "eps_max = 0.2\n",
    "e = float(eps_max/N)\n",
    "Eps = np.array([ i*e if i*e < eps_max  else eps_max  for i in range(N+1)], float) \n",
    "Alpha_cosine = []\n",
    "Alpha_polinomial = []\n",
    "\n",
    "start = time.monotonic()\n",
    "for epsilon in Eps:\n",
    "    arg_cosine = [u0, v0, alphaMAX, alphaMIN, x, h, epsilon, f8]\n",
    "    Alpha_cosine.append(alpha_binary_search(*arg_cosine))\n",
    "    \n",
    "    arg_polinomial = [u0, v0, alphaMAX, alphaMIN, x, h, epsilon, f6]\n",
    "    Alpha_polinomial.append(alpha_binary_search(*arg_polinomial))\n",
    "end = time.monotonic()"
   ]
  },
  {
   "cell_type": "code",
   "execution_count": 25,
   "metadata": {},
   "outputs": [
    {
     "name": "stdout",
     "output_type": "stream",
     "text": [
      "Альфы считались  12  минут и  12 секунд\n"
     ]
    }
   ],
   "source": [
    "Alpha_cosine = np.array(Alpha_cosine, float)\n",
    "Alpha_polinomial = np.array(Alpha_polinomial, float)\n",
    "print ('Альфы считались ', int((end-start)//60), ' минут и ', int((end-start)%60), 'секунд')"
   ]
  },
  {
   "cell_type": "code",
   "execution_count": 29,
   "metadata": {},
   "outputs": [
    {
     "data": {
      "image/png": "[encoded data removed]",
      "text/plain": [
       "<Figure size 432x288 with 1 Axes>"
      ]
     },
     "metadata": {
      "needs_background": "light"
     },
     "output_type": "display_data"
    }
   ],
   "source": [
    "# PLOTS ALPHA(EPSILON) FOR F6 AND F7\n",
    "ax = plt.gca()\n",
    "\n",
    "ax.plot(Eps,     Alpha_cosine, label = r'$ f_1 $', color ='b')\n",
    "ax.plot(Eps, Alpha_polinomial, label = r'$ f_2 $', color ='g')\n",
    "ax.plot(Eps, 2*pi/l +  Eps*2*pi/l, label = r'$ f_2 $')\n",
    "ax.plot(Eps, 2*pi/l +  Eps*3/(pi*l), label = r'$ f_2 $')\n",
    "2*pi/l +  Eps[i]*2*pi/l\n",
    "ax.set_xlabel(r'$\\varepsilon$', fontsize=18)\n",
    "ax.set_ylabel(r'$\\alpha$', fontsize=18)\n",
    "ax.legend()\n",
    "ax.grid(True)"
   ]
  },
  {
   "cell_type": "code",
   "execution_count": 32,
   "metadata": {},
   "outputs": [
    {
     "name": "stdout",
     "output_type": "stream",
     "text": [
      "0.00 1.0471976 1.0471976 1.0471976 1.0471976\n",
      "0.04 1.0535637 1.0530814 1.0890855 1.0856017\n",
      "0.08 1.0599299 1.0575619 1.1309734 1.1191512\n",
      "0.12 1.0662961 1.0605859 1.1728613 1.1470282\n",
      "0.16 1.0726623 1.0621034 1.2147492 1.1683722\n"
     ]
    }
   ],
   "source": [
    "for i in [0, 10, 20, 30, 40]:\n",
    "    #  \n",
    "    print(\"%.2f %.7f %.7f %.7f %.7f\" %(\n",
    "        Eps[i],                      # epsilon\n",
    "        2*pi/l +  Eps[i]*3/(pi*l),   # assimpt for polinomial\n",
    "        Alpha_polinomial[i] ,        # numerical for polinomial\n",
    "        2*pi/l +  Eps[i]*2*pi/l,     # assimpt for cosine\n",
    "        Alpha_cosine[i]              # numerical for cosine\n",
    "    ))"
   ]
  },
  {
   "cell_type": "code",
   "execution_count": null,
   "metadata": {},
   "outputs": [],
   "source": []
  },
  {
   "cell_type": "code",
   "execution_count": 11,
   "metadata": {},
   "outputs": [],
   "source": [
    "# SEARCH ALPHA(EPSILON) FOR F1 AND F2                           ############################################################\n",
    "eps_max = 0.2\n",
    "e = float(eps_max/N)\n",
    "Eps = np.array([ i*e if i*e < eps_max  else eps_max  for i in range(N+1)], float) \n",
    "Alpha_cosine = []\n",
    "Alpha_polinomial = []\n",
    "start = time.monotonic()\n",
    "\n",
    "for epsilon in Eps:\n",
    "    arg_cosine = [u0, v0, alphaMAX, alphaMIN, x, h, epsilon, f1]\n",
    "    Alpha_cosine.append(alpha_binary_search(*arg_cosine))\n",
    "    \n",
    "    arg_polinomial = [u0, v0, alphaMAX, alphaMIN, x, h, epsilon, f2]\n",
    "    Alpha_polinomial.append(alpha_binary_search(*arg_polinomial))\n",
    "end = time.monotonic()"
   ]
  },
  {
   "cell_type": "code",
   "execution_count": 12,
   "metadata": {},
   "outputs": [
    {
     "name": "stdout",
     "output_type": "stream",
     "text": [
      "Альфы считались  7.0  минут и  12.98399999999674 секунд\n"
     ]
    }
   ],
   "source": [
    "Alpha_cosine = np.array(Alpha_cosine, float)\n",
    "Alpha_polinomial = np.array(Alpha_polinomial, float)\n",
    "print ('Альфы считались ', (end-start)//60, ' минут и ', (end-start)%60, 'секунд')"
   ]
  },
  {
   "cell_type": "code",
   "execution_count": 25,
   "metadata": {
    "scrolled": false
   },
   "outputs": [
    {
     "data": {
      "image/png": "[encoded data removed]",
      "text/plain": [
       "<Figure size 432x288 with 1 Axes>"
      ]
     },
     "metadata": {
      "needs_background": "light"
     },
     "output_type": "display_data"
    }
   ],
   "source": [
    "# PLOTS ALPHA(EPSILON) FOR F1 AND F2\n",
    "ax = plt.gca()\n",
    "\n",
    "ax.plot(Eps, Alpha_polinomial, label = r'$ polinomial $', color ='g')\n",
    "ax.plot(Eps,     Alpha_cosine, label = r'$ cosine $', color ='b')\n",
    "\n",
    "\n",
    "ax.set_xlabel(r'$\\varepsilon$', fontsize=18)\n",
    "ax.set_ylabel(r'$\\alpha$', fontsize=18)\n",
    "ax.legend()\n",
    "ax.grid(True)"
   ]
  },
  {
   "cell_type": "code",
   "execution_count": 60,
   "metadata": {},
   "outputs": [],
   "source": [
    "# SEARCH ALPHA(EPSILON) FOR F5                                  ############################################################\n",
    "eps_max = 0.2\n",
    "e = float(eps_max/N)\n",
    "Eps = np.array([ i*e if i*e < eps_max  else eps_max  for i in range(N+1)], float) \n",
    "Alpha_stepfun = []\n",
    "\n",
    "start = time.monotonic()\n",
    "for epsilon in Eps:\n",
    "    arg_stepfun = [u0, v0, alphaMAX, alphaMIN, x, h, epsilon, f5]\n",
    "    Alpha_stepfun.append(alpha_binary_search(*arg_stepfun))\n",
    "end = time.monotonic()"
   ]
  },
  {
   "cell_type": "code",
   "execution_count": 61,
   "metadata": {},
   "outputs": [
    {
     "name": "stdout",
     "output_type": "stream",
     "text": [
      "Альфы считались  2.0  минут и  35.36000000000058 секунд\n",
      "True\n"
     ]
    }
   ],
   "source": [
    "Alpha_stepfun = np.array(Alpha_stepfun, float)\n",
    "print ('Альфы считались ', (end-start)//60, ' минут и ', (end-start)%60, 'секунд')\n",
    "print(x[N]>= l/2)"
   ]
  },
  {
   "cell_type": "code",
   "execution_count": 68,
   "metadata": {
    "scrolled": true
   },
   "outputs": [
    {
     "data": {
      "image/png": "[encoded data removed]",
      "text/plain": [
       "<Figure size 432x288 with 1 Axes>"
      ]
     },
     "metadata": {
      "needs_background": "light"
     },
     "output_type": "display_data"
    }
   ],
   "source": [
    "ax = plt.gca()\n",
    "c1 = (Alpha_stepfun[0]*Eps[N] - Alpha_stepfun[N]*Eps[0])/(Eps[N]-Eps[0])\n",
    "c2 = (Alpha_stepfun[N] - Alpha_stepfun[0])/(Eps[N]-Eps[0])\n",
    "ax.plot(Eps[0:15], Alpha_stepfun[0:15], label = r'step func', color ='g')\n",
    "ax.plot(Eps[0:15], pi/(2*l)+(2/l)*Eps[0:15], color ='b')\n",
    "ax.legend()\n",
    "ax.grid(True)"
   ]
  },
  {
   "cell_type": "code",
   "execution_count": 10,
   "metadata": {},
   "outputs": [],
   "source": [
    "# SEARCH ALPHA(EPSILON) FOR F3 AND F4                           ############################################################\n",
    "eps_max = 0.2\n",
    "e = float(eps_max/N)\n",
    "Eps = np.array([ i*e if i*e < eps_max  else eps_max  for i in range(N+1)], float) \n",
    "Alpha_cosine = []\n",
    "Alpha_polinomial = []\n",
    "\n",
    "start = time.monotonic()\n",
    "for epsilon in Eps:\n",
    "    arg_cosine = [u0, v0, alphaMAX, alphaMIN, x, h, epsilon, f3]\n",
    "    Alpha_cosine.append(alpha_binary_search(*arg_cosine))\n",
    "    \n",
    "    arg_polinomial = [u0, v0, alphaMAX, alphaMIN, x, h, epsilon, f4]\n",
    "    Alpha_polinomial.append(alpha_binary_search(*arg_polinomial))\n",
    "end = time.monotonic()"
   ]
  },
  {
   "cell_type": "code",
   "execution_count": 12,
   "metadata": {},
   "outputs": [
    {
     "name": "stdout",
     "output_type": "stream",
     "text": [
      "Альфы считались  6.0  минут и  14.015000000000327 секунд\n"
     ]
    }
   ],
   "source": [
    "Alpha_cosine = np.array(Alpha_cosine, float)\n",
    "Alpha_polinomial = np.array(Alpha_polinomial, float)\n",
    "print ('Альфы считались ', (end-start)//60, ' минут и ', (end-start)%60, 'секунд')"
   ]
  },
  {
   "cell_type": "code",
   "execution_count": 30,
   "metadata": {},
   "outputs": [
    {
     "data": {
      "image/png": "[encoded data removed]",
      "text/plain": [
       "<Figure size 432x288 with 1 Axes>"
      ]
     },
     "metadata": {
      "needs_background": "light"
     },
     "output_type": "display_data"
    }
   ],
   "source": [
    "# PLOTS ALPHA(EPSILON) FOR F1 AND F2 [0:15]\n",
    "ax = plt.gca()\n",
    "\n",
    "ax.plot(Eps, Alpha_polinomial, label = r'$1 - 2x/l$', color ='g')\n",
    "ax.plot(Eps,     Alpha_cosine, label = r'$ \\cos(\\pi x/l) $', color ='b')\n",
    "#ax.plot(Eps,     pi/(2*l) +  Eps*pi/(2*l), label = r'$ cosine assimpt $', color ='r')\n",
    "#ax.plot(Eps,     pi/(2*l) +  Eps*4/(pi*l), label = r'$ polinom assimpt $', color ='y')\n",
    "\n",
    "ax.set_xlabel(r'$\\varepsilon$', fontsize=18)\n",
    "ax.set_ylabel(r'$\\alpha$', fontsize=18)\n",
    "ax.legend()\n",
    "ax.grid(True)"
   ]
  },
  {
   "cell_type": "code",
   "execution_count": 28,
   "metadata": {
    "scrolled": true
   },
   "outputs": [
    {
     "name": "stdout",
     "output_type": "stream",
     "text": [
      "0.00 0.2617994 0.2617994 0.2617994 0.2617994\n",
      "0.04 0.2722714 0.2702356 0.2702877 0.2707507\n",
      "0.08 0.2827433 0.2780791 0.2787759 0.2783453\n",
      "0.12 0.2932153 0.2852840 0.2872642 0.2843707\n",
      "0.16 0.3036873 0.2918059 0.2957524 0.2886095\n"
     ]
    }
   ],
   "source": [
    "for i in [0, 10, 20, 30, 40]:\n",
    "    #  \n",
    "    print(\"%.2f %.7f %.7f %.7f %.7f\" %(\n",
    "        Eps[i],                      # epsilon\n",
    "        pi/(2*l) +  Eps[i]*pi/(2*l), # assimpt for cosine\n",
    "        Alpha_polinomial[i] ,        # numerical for cosine\n",
    "        pi/(2*l) +  Eps[i]*4/(pi*l), # assimpt for polinomial\n",
    "        Alpha_cosine[i]              # numerical for polinomial\n",
    "    ))"
   ]
  },
  {
   "cell_type": "code",
   "execution_count": null,
   "metadata": {},
   "outputs": [],
   "source": [
    "ax = plt.gca()\n",
    "\n",
    "ax.plot(Eps, Alpha_polinomial, label = r'$1 - 2x/l$', color ='g')\n",
    "ax.plot(Eps,     Alpha_cosine, label = r'$ \\cos(\\pi x/l) $', color ='b')\n",
    "\n",
    "\n",
    "ax.set_xlabel(r'$\\varepsilon$', fontsize=18)\n",
    "ax.set_ylabel(r'$\\alpha$', fontsize=18)\n",
    "ax.legend()\n",
    "ax.grid(True)"
   ]
  }
 ],
 "metadata": {
  "kernelspec": {
   "display_name": "Python 3",
   "language": "python",
   "name": "python3"
  },
  "language_info": {
   "codemirror_mode": {
    "name": "ipython",
    "version": 3
   },
   "file_extension": ".py",
   "mimetype": "text/x-python",
   "name": "python",
   "nbconvert_exporter": "python",
   "pygments_lexer": "ipython3",
   "version": "3.8.3"
  }
 },
 "nbformat": 4,
 "nbformat_minor": 4
}
